{
 "cells": [
  {
   "cell_type": "code",
   "execution_count": 1,
   "metadata": {
    "colab": {},
    "colab_type": "code",
    "id": "UaEb7UCKZyH1"
   },
   "outputs": [],
   "source": [
    "import numpy as np\n",
    "import pandas as pd\n",
    "import time\n",
    "import warnings\n",
    "warnings.filterwarnings('ignore')"
   ]
  },
  {
   "cell_type": "code",
   "execution_count": 2,
   "metadata": {
    "colab": {
     "base_uri": "https://localhost:8080/",
     "height": 187
    },
    "colab_type": "code",
    "executionInfo": {
     "elapsed": 5640,
     "status": "ok",
     "timestamp": 1586135138510,
     "user": {
      "displayName": "Krishnendu Mondal",
      "photoUrl": "",
      "userId": "17149074315861663544"
     },
     "user_tz": -330
    },
    "id": "D602Yl0KZyH5",
    "outputId": "d3f290af-d92f-427d-ed42-54b4ba8693e6"
   },
   "outputs": [],
   "source": [
    "#!pip install tweepy"
   ]
  },
  {
   "cell_type": "code",
   "execution_count": 3,
   "metadata": {
    "colab": {},
    "colab_type": "code",
    "id": "bvuGoD6vZyH9"
   },
   "outputs": [],
   "source": [
    "import tweepy\n",
    "from tweepy import OAuthHandler"
   ]
  },
  {
   "cell_type": "code",
   "execution_count": 4,
   "metadata": {
    "colab": {},
    "colab_type": "code",
    "id": "GM6e6eJ4ZyIA"
   },
   "outputs": [],
   "source": [
    "consumer_key='HSWDeU6deStSS8iqHrKly8Ker'\n",
    "consumer_secret='KafSg3nt6qKcWXWCnbXxrdoV98rWu2Hmu7CoZTDtWLhzQvERrt'\n",
    "access_token_key='864349577205358596-Wqk32IIT4y2yzN8jnd4OCpln7OE7DWy'\n",
    "access_token_secret='DSPT0zL2ysQeuLFZk0AycXZ1cPmBHHJbd0jCEP8zRhOFO'"
   ]
  },
  {
   "cell_type": "code",
   "execution_count": 5,
   "metadata": {
    "colab": {},
    "colab_type": "code",
    "id": "4O8Qn8bwZyID"
   },
   "outputs": [],
   "source": [
    "auth = OAuthHandler(consumer_key,consumer_secret) #to authenticate whether it is twitter application or not."
   ]
  },
  {
   "cell_type": "code",
   "execution_count": 6,
   "metadata": {
    "colab": {},
    "colab_type": "code",
    "id": "lxPKAGbOZyIH"
   },
   "outputs": [],
   "source": [
    "auth.set_access_token(access_token_key,access_token_secret) #to enable the rights to fetch tweets from twitter"
   ]
  },
  {
   "cell_type": "code",
   "execution_count": 7,
   "metadata": {
    "colab": {},
    "colab_type": "code",
    "id": "6iMWQ7OqZyIK"
   },
   "outputs": [],
   "source": [
    "# Define the Keywords here\n",
    "\n",
    "args = [\"Corona\", \"Covid\"]\n",
    "date_since = \"2020-04-19\""
   ]
  },
  {
   "cell_type": "code",
   "execution_count": 8,
   "metadata": {
    "colab": {},
    "colab_type": "code",
    "id": "O97dMUmbZyIO"
   },
   "outputs": [],
   "source": [
    "api = tweepy.API(auth,timeout = 10000) "
   ]
  },
  {
   "cell_type": "code",
   "execution_count": 9,
   "metadata": {
    "colab": {
     "base_uri": "https://localhost:8080/",
     "height": 68
    },
    "colab_type": "code",
    "executionInfo": {
     "elapsed": 5934,
     "status": "ok",
     "timestamp": 1586135138918,
     "user": {
      "displayName": "Krishnendu Mondal",
      "photoUrl": "",
      "userId": "17149074315861663544"
     },
     "user_tz": -330
    },
    "id": "0IA1DhvtFsZD",
    "outputId": "98aa48f0-ab86-4622-8a20-6507882ca9fe"
   },
   "outputs": [
    {
     "name": "stdout",
     "output_type": "stream",
     "text": [
      "Name: Krish\n",
      "Location: \n",
      "Friends: 13\n"
     ]
    }
   ],
   "source": [
    "user = api.me()\n",
    " \n",
    "print('Name: ' + user.name)\n",
    "print('Location: ' + user.location)\n",
    "print('Friends: ' + str(user.friends_count))"
   ]
  },
  {
   "cell_type": "code",
   "execution_count": 10,
   "metadata": {
    "colab": {},
    "colab_type": "code",
    "id": "wWFH7y7BZyIR"
   },
   "outputs": [],
   "source": [
    "list_tweets0 = []\n",
    "list_tweets1 = []\n",
    "list_tweets2 = []\n",
    "list_tweets3 = []\n",
    "list_tweets4 = []\n",
    "list_tweets5 = []\n",
    "list_tweets6 = []"
   ]
  },
  {
   "cell_type": "code",
   "execution_count": 11,
   "metadata": {
    "colab": {},
    "colab_type": "code",
    "id": "hvBjUnppZyIU"
   },
   "outputs": [],
   "source": [
    "query = args[0] #to convert args into strings"
   ]
  },
  {
   "cell_type": "code",
   "execution_count": 12,
   "metadata": {
    "colab": {},
    "colab_type": "code",
    "id": "pTuw7dlIZyIX"
   },
   "outputs": [],
   "source": [
    "# Defining the parameters which we require\n",
    "# As no of keywords so the no of args will increase\n",
    " \n",
    "if len(args) == 2:\n",
    "    for tweet in tweepy.Cursor(api.search, q=query+\" -filter:retweets\",lang='en',\n",
    "                               tweet_mode='extended', since=date_since,\n",
    "                               wait_on_rate_limit=True).items(2000):\n",
    "        list_tweets0.append(tweet.id)\n",
    "        list_tweets1.append(tweet.created_at)\n",
    "        list_tweets2.append(tweet.source)\n",
    "        list_tweets3.append(tweet.retweet_count)\n",
    "        list_tweets4.append(tweet.user.name)\n",
    "        list_tweets5.append(tweet.place)\n",
    "        list_tweets6.append(tweet.full_text)\n",
    "        time.sleep(1)"
   ]
  },
  {
   "cell_type": "code",
   "execution_count": 13,
   "metadata": {
    "colab": {},
    "colab_type": "code",
    "id": "NzrI4f6fZyIa"
   },
   "outputs": [],
   "source": [
    "df = pd.DataFrame(np.column_stack([list_tweets0 , list_tweets1, list_tweets2, list_tweets3,\n",
    "                                   list_tweets4, list_tweets5, list_tweets6]), \n",
    "                  columns=['Id','Timestamp', 'Source', 'Retwwet_Count', 'User_Name',\n",
    "                           'Location', 'Tweets'])\n",
    "                "
   ]
  },
  {
   "cell_type": "code",
   "execution_count": 14,
   "metadata": {
    "colab": {
     "base_uri": "https://localhost:8080/",
     "height": 34
    },
    "colab_type": "code",
    "executionInfo": {
     "elapsed": 36656,
     "status": "ok",
     "timestamp": 1586135169740,
     "user": {
      "displayName": "Krishnendu Mondal",
      "photoUrl": "",
      "userId": "17149074315861663544"
     },
     "user_tz": -330
    },
    "id": "9M6EucNCJecN",
    "outputId": "f2e2b7be-0e9f-49a0-a80c-6ae52ca1d796"
   },
   "outputs": [
    {
     "data": {
      "text/plain": [
       "(2000, 7)"
      ]
     },
     "execution_count": 14,
     "metadata": {},
     "output_type": "execute_result"
    }
   ],
   "source": [
    "df.shape"
   ]
  },
  {
   "cell_type": "code",
   "execution_count": 15,
   "metadata": {
    "colab": {},
    "colab_type": "code",
    "id": "mJh4ZB7DZyIe"
   },
   "outputs": [],
   "source": [
    "df.to_csv(\"Tweets_covid_april.csv\")"
   ]
  },
  {
   "cell_type": "code",
   "execution_count": 16,
   "metadata": {
    "colab": {},
    "colab_type": "code",
    "id": "GmLmdI1XZyIg"
   },
   "outputs": [
    {
     "data": {
      "text/html": [
       "<div>\n",
       "<style scoped>\n",
       "    .dataframe tbody tr th:only-of-type {\n",
       "        vertical-align: middle;\n",
       "    }\n",
       "\n",
       "    .dataframe tbody tr th {\n",
       "        vertical-align: top;\n",
       "    }\n",
       "\n",
       "    .dataframe thead th {\n",
       "        text-align: right;\n",
       "    }\n",
       "</style>\n",
       "<table border=\"1\" class=\"dataframe\">\n",
       "  <thead>\n",
       "    <tr style=\"text-align: right;\">\n",
       "      <th></th>\n",
       "      <th>Id</th>\n",
       "      <th>Timestamp</th>\n",
       "      <th>Source</th>\n",
       "      <th>Retwwet_Count</th>\n",
       "      <th>User_Name</th>\n",
       "      <th>Location</th>\n",
       "      <th>Tweets</th>\n",
       "    </tr>\n",
       "  </thead>\n",
       "  <tbody>\n",
       "    <tr>\n",
       "      <th>0</th>\n",
       "      <td>1251943763804643330</td>\n",
       "      <td>2020-04-19 18:40:27</td>\n",
       "      <td>Twitter for iPhone</td>\n",
       "      <td>0</td>\n",
       "      <td>shea butter baby</td>\n",
       "      <td>None</td>\n",
       "      <td>idk what headspace chrissy is in rn but for pe...</td>\n",
       "    </tr>\n",
       "    <tr>\n",
       "      <th>1</th>\n",
       "      <td>1251943763121000454</td>\n",
       "      <td>2020-04-19 18:40:27</td>\n",
       "      <td>Twitter for iPhone</td>\n",
       "      <td>0</td>\n",
       "      <td>Imran sheikh</td>\n",
       "      <td>None</td>\n",
       "      <td>@Manish01503302 @khaanachahiye @VishalDadlani ...</td>\n",
       "    </tr>\n",
       "    <tr>\n",
       "      <th>2</th>\n",
       "      <td>1251943763020255235</td>\n",
       "      <td>2020-04-19 18:40:27</td>\n",
       "      <td>Twitter for Android</td>\n",
       "      <td>0</td>\n",
       "      <td>Poonam Kumari</td>\n",
       "      <td>None</td>\n",
       "      <td>@aajtak @rahulkanwal Sir, I have a suggestion....</td>\n",
       "    </tr>\n",
       "    <tr>\n",
       "      <th>3</th>\n",
       "      <td>1251943761149657088</td>\n",
       "      <td>2020-04-19 18:40:27</td>\n",
       "      <td>Twitter for iPhone</td>\n",
       "      <td>0</td>\n",
       "      <td>𝐉 𝐀 𝐒 𝐌 𝐈 𝐍 𝐄</td>\n",
       "      <td>None</td>\n",
       "      <td>I officially cancelled my EDC ticket, fuck you...</td>\n",
       "    </tr>\n",
       "    <tr>\n",
       "      <th>4</th>\n",
       "      <td>1251943760570675200</td>\n",
       "      <td>2020-04-19 18:40:27</td>\n",
       "      <td>Twitter for Android</td>\n",
       "      <td>0</td>\n",
       "      <td>QuarantinedSouthSwamy</td>\n",
       "      <td>None</td>\n",
       "      <td>@RaghuRaju @surnell @BlrCityPolice @CPBlr No n...</td>\n",
       "    </tr>\n",
       "  </tbody>\n",
       "</table>\n",
       "</div>"
      ],
      "text/plain": [
       "                    Id            Timestamp               Source  \\\n",
       "0  1251943763804643330  2020-04-19 18:40:27   Twitter for iPhone   \n",
       "1  1251943763121000454  2020-04-19 18:40:27   Twitter for iPhone   \n",
       "2  1251943763020255235  2020-04-19 18:40:27  Twitter for Android   \n",
       "3  1251943761149657088  2020-04-19 18:40:27   Twitter for iPhone   \n",
       "4  1251943760570675200  2020-04-19 18:40:27  Twitter for Android   \n",
       "\n",
       "  Retwwet_Count              User_Name Location  \\\n",
       "0             0       shea butter baby     None   \n",
       "1             0           Imran sheikh     None   \n",
       "2             0          Poonam Kumari     None   \n",
       "3             0          𝐉 𝐀 𝐒 𝐌 𝐈 𝐍 𝐄     None   \n",
       "4             0  QuarantinedSouthSwamy     None   \n",
       "\n",
       "                                              Tweets  \n",
       "0  idk what headspace chrissy is in rn but for pe...  \n",
       "1  @Manish01503302 @khaanachahiye @VishalDadlani ...  \n",
       "2  @aajtak @rahulkanwal Sir, I have a suggestion....  \n",
       "3  I officially cancelled my EDC ticket, fuck you...  \n",
       "4  @RaghuRaju @surnell @BlrCityPolice @CPBlr No n...  "
      ]
     },
     "execution_count": 16,
     "metadata": {},
     "output_type": "execute_result"
    }
   ],
   "source": [
    "df.head()"
   ]
  },
  {
   "cell_type": "code",
   "execution_count": 17,
   "metadata": {
    "colab": {},
    "colab_type": "code",
    "id": "A83i5HvnDdiA"
   },
   "outputs": [],
   "source": [
    "#************* End of Code *****************************"
   ]
  }
 ],
 "metadata": {
  "colab": {
   "name": "Twitter Scraping.ipynb",
   "provenance": []
  },
  "kernelspec": {
   "display_name": "Python 3",
   "language": "python",
   "name": "python3"
  },
  "language_info": {
   "codemirror_mode": {
    "name": "ipython",
    "version": 3
   },
   "file_extension": ".py",
   "mimetype": "text/x-python",
   "name": "python",
   "nbconvert_exporter": "python",
   "pygments_lexer": "ipython3",
   "version": "3.7.3"
  }
 },
 "nbformat": 4,
 "nbformat_minor": 1
}
